{
 "cells": [
  {
   "cell_type": "code",
   "execution_count": 18,
   "metadata": {},
   "outputs": [],
   "source": [
    "# Dependencies\n",
    "import matplotlib.pyplot as plt\n",
    "import pandas as pd\n",
    "import psycopg2 as pg\n",
    "import pandas.io.sql as psql\n",
    "import config as login\n",
    "import numpy as np\n"
   ]
  },
  {
   "cell_type": "code",
   "execution_count": 2,
   "metadata": {},
   "outputs": [],
   "source": [
    "#Connect to database\n",
    "\n",
    "conn_string=\"postgresql://\" + login.user + login.passwd + \"@localhost:5432/newsql_db\"\n",
    "\n",
    "conn = pg.connect(conn_string)"
   ]
  },
  {
   "cell_type": "code",
   "execution_count": 3,
   "metadata": {},
   "outputs": [],
   "source": [
    "query_emp = 'SELECT * FROM salaries;'\n",
    "emp_data = pd.read_sql(query_emp, conn)"
   ]
  },
  {
   "cell_type": "code",
   "execution_count": 4,
   "metadata": {},
   "outputs": [
    {
     "name": "stdout",
     "output_type": "stream",
     "text": [
      "        salary_id  emp_no   salary   from_date     to_date\n",
      "0               1   10001  60117.0  1986-06-26  1987-06-26\n",
      "1               2   10002  65828.0  1996-08-03  1997-08-03\n",
      "2               3   10003  40006.0  1995-12-03  1996-12-02\n",
      "3               4   10004  40054.0  1986-12-01  1987-12-01\n",
      "4               5   10005  78228.0  1989-09-12  1990-09-12\n",
      "...           ...     ...      ...         ...         ...\n",
      "300019     300020  499995  40000.0  1997-06-02  1998-06-02\n",
      "300020     300021  499996  58058.0  1996-05-13  1997-05-13\n",
      "300021     300022  499997  49597.0  1987-08-30  1988-08-29\n",
      "300022     300023  499998  40000.0  1993-12-27  1994-12-27\n",
      "300023     300024  499999  63707.0  1997-11-30  1998-11-30\n",
      "\n",
      "[300024 rows x 5 columns]\n"
     ]
    }
   ],
   "source": [
    "print(emp_data)"
   ]
  },
  {
   "cell_type": "markdown",
   "metadata": {},
   "source": [
    "# Bonus #1"
   ]
  },
  {
   "cell_type": "code",
   "execution_count": 12,
   "metadata": {},
   "outputs": [],
   "source": [
    "new = emp_data.salary"
   ]
  },
  {
   "cell_type": "code",
   "execution_count": 25,
   "metadata": {},
   "outputs": [
    {
     "data": {
      "image/png": "[encoded data removed]",
      "text/plain": [
       "<Figure size 432x288 with 1 Axes>"
      ]
     },
     "metadata": {
      "needs_background": "light"
     },
     "output_type": "display_data"
    }
   ],
   "source": [
    "n, bins, patches = plt.hist(new, 10, density=True, facecolor='g', alpha=0.75)"
   ]
  },
  {
   "cell_type": "code",
   "execution_count": null,
   "metadata": {},
   "outputs": [],
   "source": []
  }
 ],
 "metadata": {
  "kernelspec": {
   "display_name": "Python 3",
   "language": "python",
   "name": "python3"
  },
  "language_info": {
   "codemirror_mode": {
    "name": "ipython",
    "version": 3
   },
   "file_extension": ".py",
   "mimetype": "text/x-python",
   "name": "python",
   "nbconvert_exporter": "python",
   "pygments_lexer": "ipython3",
   "version": "3.7.4"
  }
 },
 "nbformat": 4,
 "nbformat_minor": 2
}
